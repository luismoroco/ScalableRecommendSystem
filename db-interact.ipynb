{
 "cells": [
  {
   "cell_type": "code",
   "execution_count": 6,
   "metadata": {},
   "outputs": [],
   "source": [
    "from cassandra.cluster import Cluster\n",
    "from cassandra.query import SimpleStatement\n",
    "from cassandra.auth import PlainTextAuthProvider"
   ]
  },
  {
   "cell_type": "code",
   "execution_count": 2,
   "metadata": {},
   "outputs": [],
   "source": [
    "cluster = Cluster(\n",
    "    port=9042, \n",
    "    auth_provider=PlainTextAuthProvider(username='cassandra', password='root'))"
   ]
  },
  {
   "cell_type": "code",
   "execution_count": 3,
   "metadata": {},
   "outputs": [],
   "source": [
    "session = cluster.connect()"
   ]
  },
  {
   "cell_type": "code",
   "execution_count": 4,
   "metadata": {},
   "outputs": [],
   "source": [
    "session.set_keyspace(\"devtest\")"
   ]
  },
  {
   "cell_type": "code",
   "execution_count": 5,
   "metadata": {},
   "outputs": [
    {
     "name": "stdout",
     "output_type": "stream",
     "text": [
      "Row(id=5, name='May')\n",
      "Row(id=10, name='October')\n",
      "Row(id=11, name='November')\n",
      "Row(id=1, name='January')\n",
      "Row(id=8, name='August')\n",
      "Row(id=2, name='February')\n",
      "Row(id=4, name='April')\n",
      "Row(id=7, name='July')\n",
      "Row(id=6, name='June')\n",
      "Row(id=9, name='September')\n",
      "Row(id=12, name='December')\n",
      "Row(id=3, name='March')\n"
     ]
    }
   ],
   "source": [
    "select_query = f\"SELECT * FROM months\"\n",
    "\n",
    "rows = session.execute(select_query)\n",
    "\n",
    "for row in rows:\n",
    "    print(row)"
   ]
  }
 ],
 "metadata": {
  "kernelspec": {
   "display_name": "venv",
   "language": "python",
   "name": "python3"
  },
  "language_info": {
   "codemirror_mode": {
    "name": "ipython",
    "version": 3
   },
   "file_extension": ".py",
   "mimetype": "text/x-python",
   "name": "python",
   "nbconvert_exporter": "python",
   "pygments_lexer": "ipython3",
   "version": "3.6.9"
  },
  "orig_nbformat": 4
 },
 "nbformat": 4,
 "nbformat_minor": 2
}
