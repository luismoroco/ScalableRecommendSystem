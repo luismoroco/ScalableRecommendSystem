{
 "cells": [
  {
   "cell_type": "code",
   "execution_count": 88,
   "metadata": {},
   "outputs": [],
   "source": [
    "from cassandra.cluster import Cluster\n",
    "from cassandra.query import SimpleStatement\n",
    "from cassandra.auth import PlainTextAuthProvider"
   ]
  },
  {
   "cell_type": "code",
   "execution_count": 89,
   "metadata": {},
   "outputs": [],
   "source": [
    "cluster = Cluster(\n",
    "    port=9042, \n",
    "    auth_provider=PlainTextAuthProvider(username='cassandra', password='root'))"
   ]
  },
  {
   "cell_type": "code",
   "execution_count": 107,
   "metadata": {},
   "outputs": [],
   "source": [
    "session = cluster.connect()"
   ]
  },
  {
   "cell_type": "code",
   "execution_count": 108,
   "metadata": {},
   "outputs": [],
   "source": [
    "session.set_keyspace(\"devtest\")"
   ]
  },
  {
   "cell_type": "code",
   "execution_count": 109,
   "metadata": {},
   "outputs": [
    {
     "name": "stdout",
     "output_type": "stream",
     "text": [
      "Row(id=5, name='IMAX')\n",
      "Row(id=10, name='Romance')\n",
      "Row(id=16, name='Film-Noir')\n",
      "Row(id=13, name='Musical')\n",
      "Row(id=11, name='Crime')\n",
      "Row(id=1, name='Documentary')\n",
      "Row(id=19, name='Thriller')\n",
      "Row(id=8, name='War')\n",
      "Row(id=2, name='Adventure')\n",
      "Row(id=4, name='Children')\n",
      "Row(id=18, name='(no genres listed)')\n",
      "Row(id=15, name='Horror')\n",
      "Row(id=20, name='Western')\n",
      "Row(id=7, name='Animation')\n",
      "Row(id=6, name='Mystery')\n",
      "Row(id=9, name='Drama')\n",
      "Row(id=14, name='Fantasy')\n",
      "Row(id=17, name='Comedy')\n",
      "Row(id=12, name='Action')\n",
      "Row(id=3, name='Sci-Fi')\n"
     ]
    }
   ],
   "source": [
    "rows = session.execute(\"SELECT * FROM genres\")\n",
    "for row in rows:\n",
    "    print(row)"
   ]
  },
  {
   "cell_type": "code",
   "execution_count": 110,
   "metadata": {},
   "outputs": [
    {
     "name": "stdout",
     "output_type": "stream",
     "text": [
      "Row(id=4317, genres_ids=SortedSet([10, 17]), title='Love Potion #9 (1992)')\n",
      "Row(id=51678, genres_ids=SortedSet([9]), title='Julius Caesar (1953)')\n",
      "Row(id=77328, genres_ids=SortedSet([6, 9, 11, 19]), title='Red Riding: 1974 (2009)')\n",
      "Row(id=143615, genres_ids=SortedSet([9, 11, 12]), title='Pizza Connection (1985)')\n",
      "Row(id=3372, genres_ids=SortedSet([8, 12]), title='Bridge at Remagen, The (1969)')\n",
      "Row(id=96748, genres_ids=SortedSet([15, 19]), title='247°F (2011) ')\n"
     ]
    }
   ],
   "source": [
    "rows = session.execute(\"SELECT * FROM movies LIMIT 6\")\n",
    "for row in rows:\n",
    "    print(row)"
   ]
  },
  {
   "cell_type": "code",
   "execution_count": 104,
   "metadata": {},
   "outputs": [],
   "source": [
    "session.shutdown()"
   ]
  }
 ],
 "metadata": {
  "kernelspec": {
   "display_name": "venv",
   "language": "python",
   "name": "python3"
  },
  "language_info": {
   "codemirror_mode": {
    "name": "ipython",
    "version": 3
   },
   "file_extension": ".py",
   "mimetype": "text/x-python",
   "name": "python",
   "nbconvert_exporter": "python",
   "pygments_lexer": "ipython3",
   "version": "3.10.6"
  },
  "orig_nbformat": 4,
  "vscode": {
   "interpreter": {
    "hash": "a596c688a08921160fcccc099440d7f668c731975b96542a30f7f498f2c094c8"
   }
  }
 },
 "nbformat": 4,
 "nbformat_minor": 2
}
