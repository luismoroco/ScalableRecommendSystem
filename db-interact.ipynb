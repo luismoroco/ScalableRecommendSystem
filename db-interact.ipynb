{
 "cells": [
  {
   "cell_type": "code",
   "execution_count": 1,
   "metadata": {},
   "outputs": [
    {
     "name": "stderr",
     "output_type": "stream",
     "text": [
      "/home/lmoroco/Documentos/5to/TDS/projects/pruebas/ScalableRecommendSystem/venv/lib/python3.6/site-packages/cassandra/policies.py:25: CryptographyDeprecationWarning: Python 3.6 is no longer supported by the Python core team. Therefore, support for it is deprecated in cryptography. The next release of cryptography will remove support for Python 3.6.\n",
      "  from cryptography.hazmat.primitives import padding\n"
     ]
    }
   ],
   "source": [
    "from cassandra.cluster import Cluster\n",
    "from cassandra.query import SimpleStatement\n",
    "from cassandra.auth import PlainTextAuthProvider"
   ]
  },
  {
   "cell_type": "code",
   "execution_count": 2,
   "metadata": {},
   "outputs": [],
   "source": [
    "cluster = Cluster(\n",
    "    port=9042, \n",
    "    auth_provider=PlainTextAuthProvider(username='cassandra', password='root'))"
   ]
  },
  {
   "cell_type": "code",
   "execution_count": 3,
   "metadata": {},
   "outputs": [],
   "source": [
    "session = cluster.connect()"
   ]
  },
  {
   "cell_type": "code",
   "execution_count": 4,
   "metadata": {},
   "outputs": [],
   "source": [
    "session.set_keyspace(\"devtest\")"
   ]
  },
  {
   "cell_type": "code",
   "execution_count": 5,
   "metadata": {},
   "outputs": [
    {
     "name": "stdout",
     "output_type": "stream",
     "text": [
      "Row(id=5, name='IMAX')\n",
      "Row(id=10, name='Romance')\n",
      "Row(id=16, name='Film-Noir')\n",
      "Row(id=13, name='Musical')\n",
      "Row(id=11, name='Crime')\n",
      "Row(id=1, name='Documentary')\n",
      "Row(id=19, name='Thriller')\n",
      "Row(id=8, name='War')\n",
      "Row(id=2, name='Adventure')\n",
      "Row(id=4, name='Children')\n",
      "Row(id=18, name='(no genres listed)')\n",
      "Row(id=15, name='Horror')\n",
      "Row(id=20, name='Western')\n",
      "Row(id=7, name='Animation')\n",
      "Row(id=6, name='Mystery')\n",
      "Row(id=9, name='Drama')\n",
      "Row(id=14, name='Fantasy')\n",
      "Row(id=17, name='Comedy')\n",
      "Row(id=12, name='Action')\n",
      "Row(id=3, name='Sci-Fi')\n"
     ]
    }
   ],
   "source": [
    "rows = session.execute(\"SELECT * FROM genres\")\n",
    "for row in rows:\n",
    "    print(row)"
   ]
  },
  {
   "cell_type": "code",
   "execution_count": 6,
   "metadata": {},
   "outputs": [
    {
     "name": "stdout",
     "output_type": "stream",
     "text": [
      "Row(id=4317, count_rat=1074, genres_ids=SortedSet([10, 17]), rat_avg=-0.7462899684906006, title='Love Potion #9 (1992)', tmdbid='26255.0')\n",
      "Row(id=51678, count_rat=168, genres_ids=SortedSet([9]), rat_avg=0.018896210938692093, title='Julius Caesar (1953)', tmdbid='18019.0')\n",
      "Row(id=77328, count_rat=203, genres_ids=SortedSet([6, 9, 11, 19]), rat_avg=-0.0377899631857872, title='Red Riding: 1974 (2009)', tmdbid='61917.0')\n",
      "Row(id=143615, count_rat=1, genres_ids=SortedSet([9, 11, 12]), rat_avg=-0.02855078876018524, title='Pizza Connection (1985)', tmdbid='40982.0')\n",
      "Row(id=3372, count_rat=367, genres_ids=SortedSet([8, 12]), rat_avg=-0.10137535631656647, title='Bridge at Remagen, The (1969)', tmdbid='15873.0')\n",
      "Row(id=96748, count_rat=12, genres_ids=SortedSet([15, 19]), rat_avg=-0.8491047620773315, title='247°F (2011) ', tmdbid='137145.0')\n"
     ]
    }
   ],
   "source": [
    "rows = session.execute(\"SELECT * FROM movies LIMIT 6\")\n",
    "for row in rows:\n",
    "    print(row)"
   ]
  },
  {
   "cell_type": "code",
   "execution_count": 7,
   "metadata": {},
   "outputs": [
    {
     "name": "stdout",
     "output_type": "stream",
     "text": [
      "Row(id=4317, avg_rat=-0.35953056812286377, count_rat=17, mov_rateds=SortedSet([48, 104, 368, 594, 596, 1485, 1517, 2012, 2081, 2115, 2640, 2791, 2918, 3114, 4306, 4886, 8644]))\n",
      "Row(id=62693, avg_rat=0.440337210893631, count_rat=6, mov_rateds=SortedSet([527, 737, 909, 2346, 3086, 3911]))\n",
      "Row(id=121478, avg_rat=0.06522680819034576, count_rat=100, mov_rateds=SortedSet([11, 105, 110, 193, 337, 799, 830, 898, 900, 901, 902, 911, 914, 915, 916, 937, 1019, 1032, 1347, 1367, 1587, 1784, 1968, 2018, 2094, 2144, 2145, 2146, 2160, 2231, 2288, 2291, 2329, 2366, 2572, 2706, 2918, 3363, 3396, 3534, 3555, 3863, 3916, 4014, 4235, 4246, 4370, 4718, 4993, 5009, 5010, 5952, 5975, 6022, 6218, 6295, 6493, 6539, 6586, 6942, 6953, 7153, 7169, 7173, 7315, 7458, 8033, 8641, 8810, 8948, 8969, 26178, 26680, 30793, 31694, 33085, 37729, 39715, 40629, 44225, 44815, 45501, 45722, 50601, 51662, 53125, 54190, 55052, 55765, 56949, 58293, 58803, 62718, 64499, 64501, 65585, 69406, 69757, 71670, 71823]))\n",
      "Row(id=265902, avg_rat=0.7216700315475464, count_rat=15, mov_rateds=SortedSet([616, 1327, 1359, 1911, 2125, 3809, 3861, 4040, 4238, 4876, 7150, 63062, 88125, 89745, 91500]))\n",
      "Row(id=113295, avg_rat=-0.18997125327587128, count_rat=61, mov_rateds=SortedSet([10, 60, 165, 256, 318, 368, 377, 380, 480, 589, 637, 648, 780, 1013, 1036, 1101, 1126, 1299, 1370, 1385, 1562, 1587, 1608, 1954, 1962, 2000, 2001, 2046, 2109, 2273, 2371, 2403, 2420, 2706, 2792, 2916, 3039, 3243, 3527, 3639, 3698, 4085, 4321, 4489, 4679, 5049, 5313, 5574, 6537, 6664, 6764, 7004, 7225, 7376, 32019, 33410, 53125, 57528, 59369, 60126, 67295]))\n",
      "Row(id=263741, avg_rat=0.3416239619255066, count_rat=19, mov_rateds=SortedSet([393, 519, 858, 1356, 1385, 1920, 2011, 2153, 2380, 2382, 2383, 2404, 2648, 3959, 3972, 4006, 4023, 4638, 4993]))\n"
     ]
    }
   ],
   "source": [
    "rows = session.execute(\"SELECT * FROM users LIMIT 6\")\n",
    "for row in rows:\n",
    "    print(row)"
   ]
  },
  {
   "cell_type": "code",
   "execution_count": 8,
   "metadata": {},
   "outputs": [],
   "source": [
    "session.shutdown()"
   ]
  },
  {
   "cell_type": "code",
   "execution_count": 9,
   "metadata": {},
   "outputs": [],
   "source": [
    "import pandas as pd "
   ]
  },
  {
   "cell_type": "code",
   "execution_count": 12,
   "metadata": {},
   "outputs": [],
   "source": [
    "import gc"
   ]
  },
  {
   "cell_type": "code",
   "execution_count": 10,
   "metadata": {},
   "outputs": [
    {
     "data": {
      "text/html": [
       "<div>\n",
       "<style scoped>\n",
       "    .dataframe tbody tr th:only-of-type {\n",
       "        vertical-align: middle;\n",
       "    }\n",
       "\n",
       "    .dataframe tbody tr th {\n",
       "        vertical-align: top;\n",
       "    }\n",
       "\n",
       "    .dataframe thead th {\n",
       "        text-align: right;\n",
       "    }\n",
       "</style>\n",
       "<table border=\"1\" class=\"dataframe\">\n",
       "  <thead>\n",
       "    <tr style=\"text-align: right;\">\n",
       "      <th></th>\n",
       "      <th>movieId</th>\n",
       "      <th>title</th>\n",
       "      <th>genres</th>\n",
       "      <th>rating_count</th>\n",
       "      <th>rating_avg</th>\n",
       "      <th>tmdbId</th>\n",
       "    </tr>\n",
       "  </thead>\n",
       "  <tbody>\n",
       "    <tr>\n",
       "      <th>0</th>\n",
       "      <td>1</td>\n",
       "      <td>Toy Story (1995)</td>\n",
       "      <td>Adventure|Animation|Children|Comedy|Fantasy</td>\n",
       "      <td>68469</td>\n",
       "      <td>0.334040</td>\n",
       "      <td>862.0</td>\n",
       "    </tr>\n",
       "    <tr>\n",
       "      <th>1</th>\n",
       "      <td>2</td>\n",
       "      <td>Jumanji (1995)</td>\n",
       "      <td>Adventure|Children|Fantasy</td>\n",
       "      <td>27143</td>\n",
       "      <td>-0.266199</td>\n",
       "      <td>8844.0</td>\n",
       "    </tr>\n",
       "    <tr>\n",
       "      <th>2</th>\n",
       "      <td>3</td>\n",
       "      <td>Grumpier Old Men (1995)</td>\n",
       "      <td>Comedy|Romance</td>\n",
       "      <td>15585</td>\n",
       "      <td>-0.334283</td>\n",
       "      <td>15602.0</td>\n",
       "    </tr>\n",
       "    <tr>\n",
       "      <th>3</th>\n",
       "      <td>4</td>\n",
       "      <td>Waiting to Exhale (1995)</td>\n",
       "      <td>Comedy|Drama|Romance</td>\n",
       "      <td>2989</td>\n",
       "      <td>-0.615092</td>\n",
       "      <td>31357.0</td>\n",
       "    </tr>\n",
       "    <tr>\n",
       "      <th>4</th>\n",
       "      <td>5</td>\n",
       "      <td>Father of the Bride Part II (1995)</td>\n",
       "      <td>Comedy</td>\n",
       "      <td>15474</td>\n",
       "      <td>-0.424957</td>\n",
       "      <td>11862.0</td>\n",
       "    </tr>\n",
       "    <tr>\n",
       "      <th>5</th>\n",
       "      <td>6</td>\n",
       "      <td>Heat (1995)</td>\n",
       "      <td>Action|Crime|Thriller</td>\n",
       "      <td>28683</td>\n",
       "      <td>0.294242</td>\n",
       "      <td>949.0</td>\n",
       "    </tr>\n",
       "    <tr>\n",
       "      <th>6</th>\n",
       "      <td>7</td>\n",
       "      <td>Sabrina (1995)</td>\n",
       "      <td>Comedy|Romance</td>\n",
       "      <td>15301</td>\n",
       "      <td>-0.149197</td>\n",
       "      <td>11860.0</td>\n",
       "    </tr>\n",
       "    <tr>\n",
       "      <th>7</th>\n",
       "      <td>8</td>\n",
       "      <td>Tom and Huck (1995)</td>\n",
       "      <td>Adventure|Children</td>\n",
       "      <td>1539</td>\n",
       "      <td>-0.382578</td>\n",
       "      <td>45325.0</td>\n",
       "    </tr>\n",
       "    <tr>\n",
       "      <th>8</th>\n",
       "      <td>9</td>\n",
       "      <td>Sudden Death (1995)</td>\n",
       "      <td>Action</td>\n",
       "      <td>4449</td>\n",
       "      <td>-0.490378</td>\n",
       "      <td>9091.0</td>\n",
       "    </tr>\n",
       "    <tr>\n",
       "      <th>9</th>\n",
       "      <td>10</td>\n",
       "      <td>GoldenEye (1995)</td>\n",
       "      <td>Action|Adventure|Thriller</td>\n",
       "      <td>33086</td>\n",
       "      <td>-0.092664</td>\n",
       "      <td>710.0</td>\n",
       "    </tr>\n",
       "  </tbody>\n",
       "</table>\n",
       "</div>"
      ],
      "text/plain": [
       "   movieId                               title  \\\n",
       "0        1                    Toy Story (1995)   \n",
       "1        2                      Jumanji (1995)   \n",
       "2        3             Grumpier Old Men (1995)   \n",
       "3        4            Waiting to Exhale (1995)   \n",
       "4        5  Father of the Bride Part II (1995)   \n",
       "5        6                         Heat (1995)   \n",
       "6        7                      Sabrina (1995)   \n",
       "7        8                 Tom and Huck (1995)   \n",
       "8        9                 Sudden Death (1995)   \n",
       "9       10                    GoldenEye (1995)   \n",
       "\n",
       "                                        genres  rating_count  rating_avg  \\\n",
       "0  Adventure|Animation|Children|Comedy|Fantasy         68469    0.334040   \n",
       "1                   Adventure|Children|Fantasy         27143   -0.266199   \n",
       "2                               Comedy|Romance         15585   -0.334283   \n",
       "3                         Comedy|Drama|Romance          2989   -0.615092   \n",
       "4                                       Comedy         15474   -0.424957   \n",
       "5                        Action|Crime|Thriller         28683    0.294242   \n",
       "6                               Comedy|Romance         15301   -0.149197   \n",
       "7                           Adventure|Children          1539   -0.382578   \n",
       "8                                       Action          4449   -0.490378   \n",
       "9                    Action|Adventure|Thriller         33086   -0.092664   \n",
       "\n",
       "    tmdbId  \n",
       "0    862.0  \n",
       "1   8844.0  \n",
       "2  15602.0  \n",
       "3  31357.0  \n",
       "4  11862.0  \n",
       "5    949.0  \n",
       "6  11860.0  \n",
       "7  45325.0  \n",
       "8   9091.0  \n",
       "9    710.0  "
      ]
     },
     "execution_count": 10,
     "metadata": {},
     "output_type": "execute_result"
    }
   ],
   "source": [
    "mov_df = pd.read_csv('./data/preprocessed/movies_cleaned.csv')\n",
    "mov_df.head(10)"
   ]
  },
  {
   "cell_type": "code",
   "execution_count": 11,
   "metadata": {},
   "outputs": [
    {
     "data": {
      "text/plain": [
       "515.0113010076268"
      ]
     },
     "execution_count": 11,
     "metadata": {},
     "output_type": "execute_result"
    }
   ],
   "source": [
    "mov_df['rating_count'].mean()"
   ]
  },
  {
   "cell_type": "code",
   "execution_count": 13,
   "metadata": {},
   "outputs": [
    {
     "data": {
      "text/plain": [
       "18"
      ]
     },
     "execution_count": 13,
     "metadata": {},
     "output_type": "execute_result"
    }
   ],
   "source": [
    "gc.collect()"
   ]
  },
  {
   "cell_type": "code",
   "execution_count": 14,
   "metadata": {},
   "outputs": [
    {
     "data": {
      "text/html": [
       "<div>\n",
       "<style scoped>\n",
       "    .dataframe tbody tr th:only-of-type {\n",
       "        vertical-align: middle;\n",
       "    }\n",
       "\n",
       "    .dataframe tbody tr th {\n",
       "        vertical-align: top;\n",
       "    }\n",
       "\n",
       "    .dataframe thead th {\n",
       "        text-align: right;\n",
       "    }\n",
       "</style>\n",
       "<table border=\"1\" class=\"dataframe\">\n",
       "  <thead>\n",
       "    <tr style=\"text-align: right;\">\n",
       "      <th></th>\n",
       "      <th>movieId</th>\n",
       "      <th>title</th>\n",
       "      <th>genres</th>\n",
       "      <th>rating_count</th>\n",
       "      <th>rating_avg</th>\n",
       "      <th>tmdbId</th>\n",
       "    </tr>\n",
       "  </thead>\n",
       "  <tbody>\n",
       "    <tr>\n",
       "      <th>40020</th>\n",
       "      <td>159684</td>\n",
       "      <td>Point Zero (2015)</td>\n",
       "      <td>Drama|Thriller</td>\n",
       "      <td>1</td>\n",
       "      <td>-0.966327</td>\n",
       "      <td>361146.0</td>\n",
       "    </tr>\n",
       "    <tr>\n",
       "      <th>37193</th>\n",
       "      <td>152167</td>\n",
       "      <td>Ho visto le stelle (2003)</td>\n",
       "      <td>Comedy</td>\n",
       "      <td>1</td>\n",
       "      <td>-0.966327</td>\n",
       "      <td>61314.0</td>\n",
       "    </tr>\n",
       "    <tr>\n",
       "      <th>9512</th>\n",
       "      <td>27818</td>\n",
       "      <td>Just Bea (Bare Bea) (2004)</td>\n",
       "      <td>Drama</td>\n",
       "      <td>1</td>\n",
       "      <td>-0.497439</td>\n",
       "      <td>38398.0</td>\n",
       "    </tr>\n",
       "  </tbody>\n",
       "</table>\n",
       "</div>"
      ],
      "text/plain": [
       "       movieId                       title          genres  rating_count  \\\n",
       "40020   159684           Point Zero (2015)  Drama|Thriller             1   \n",
       "37193   152167   Ho visto le stelle (2003)          Comedy             1   \n",
       "9512     27818  Just Bea (Bare Bea) (2004)           Drama             1   \n",
       "\n",
       "       rating_avg    tmdbId  \n",
       "40020   -0.966327  361146.0  \n",
       "37193   -0.966327   61314.0  \n",
       "9512    -0.497439   38398.0  "
      ]
     },
     "execution_count": 14,
     "metadata": {},
     "output_type": "execute_result"
    }
   ],
   "source": [
    "df_sorted = mov_df.sort_values(by=['rating_count'], ascending=True)\n",
    "df_sorted.head(3)"
   ]
  },
  {
   "cell_type": "code",
   "execution_count": 15,
   "metadata": {},
   "outputs": [
    {
     "data": {
      "text/html": [
       "<div>\n",
       "<style scoped>\n",
       "    .dataframe tbody tr th:only-of-type {\n",
       "        vertical-align: middle;\n",
       "    }\n",
       "\n",
       "    .dataframe tbody tr th {\n",
       "        vertical-align: top;\n",
       "    }\n",
       "\n",
       "    .dataframe thead th {\n",
       "        text-align: right;\n",
       "    }\n",
       "</style>\n",
       "<table border=\"1\" class=\"dataframe\">\n",
       "  <thead>\n",
       "    <tr style=\"text-align: right;\">\n",
       "      <th></th>\n",
       "      <th>movieId</th>\n",
       "      <th>title</th>\n",
       "      <th>genres</th>\n",
       "      <th>rating_count</th>\n",
       "      <th>rating_avg</th>\n",
       "      <th>tmdbId</th>\n",
       "    </tr>\n",
       "  </thead>\n",
       "  <tbody>\n",
       "    <tr>\n",
       "      <th>293</th>\n",
       "      <td>296</td>\n",
       "      <td>Pulp Fiction (1994)</td>\n",
       "      <td>Comedy|Crime|Drama|Thriller</td>\n",
       "      <td>92406</td>\n",
       "      <td>0.603483</td>\n",
       "      <td>680.0</td>\n",
       "    </tr>\n",
       "    <tr>\n",
       "      <th>352</th>\n",
       "      <td>356</td>\n",
       "      <td>Forrest Gump (1994)</td>\n",
       "      <td>Comedy|Drama|Romance|War</td>\n",
       "      <td>97040</td>\n",
       "      <td>0.493401</td>\n",
       "      <td>13.0</td>\n",
       "    </tr>\n",
       "    <tr>\n",
       "      <th>315</th>\n",
       "      <td>318</td>\n",
       "      <td>Shawshank Redemption, The (1994)</td>\n",
       "      <td>Crime|Drama</td>\n",
       "      <td>97999</td>\n",
       "      <td>0.838131</td>\n",
       "      <td>278.0</td>\n",
       "    </tr>\n",
       "  </tbody>\n",
       "</table>\n",
       "</div>"
      ],
      "text/plain": [
       "     movieId                             title                       genres  \\\n",
       "293      296               Pulp Fiction (1994)  Comedy|Crime|Drama|Thriller   \n",
       "352      356               Forrest Gump (1994)     Comedy|Drama|Romance|War   \n",
       "315      318  Shawshank Redemption, The (1994)                  Crime|Drama   \n",
       "\n",
       "     rating_count  rating_avg  tmdbId  \n",
       "293         92406    0.603483   680.0  \n",
       "352         97040    0.493401    13.0  \n",
       "315         97999    0.838131   278.0  "
      ]
     },
     "execution_count": 15,
     "metadata": {},
     "output_type": "execute_result"
    }
   ],
   "source": [
    "df_sorted.tail(3)"
   ]
  },
  {
   "cell_type": "code",
   "execution_count": 22,
   "metadata": {},
   "outputs": [],
   "source": [
    "import seaborn as sns "
   ]
  },
  {
   "cell_type": "code",
   "execution_count": 26,
   "metadata": {},
   "outputs": [
    {
     "data": {
      "text/plain": [
       "(1.378113212220071, -2.8418787933259684)"
      ]
     },
     "execution_count": 26,
     "metadata": {},
     "output_type": "execute_result"
    }
   ],
   "source": [
    "mov_df['rating_avg'].max(), mov_df['rating_avg'].min()"
   ]
  },
  {
   "cell_type": "code",
   "execution_count": 23,
   "metadata": {},
   "outputs": [
    {
     "name": "stderr",
     "output_type": "stream",
     "text": [
      "/home/lmoroco/Documentos/5to/TDS/projects/pruebas/ScalableRecommendSystem/venv/lib/python3.6/site-packages/seaborn/_decorators.py:43: FutureWarning: Pass the following variable as a keyword arg: x. From version 0.12, the only valid positional argument will be `data`, and passing other arguments without an explicit keyword will result in an error or misinterpretation.\n",
      "  FutureWarning\n"
     ]
    },
    {
     "data": {
      "text/plain": [
       "<AxesSubplot:xlabel='rating_count'>"
      ]
     },
     "execution_count": 23,
     "metadata": {},
     "output_type": "execute_result"
    },
    {
     "data": {
      "image/png": "[encoded data removed]",
      "text/plain": [
       "<Figure size 432x288 with 1 Axes>"
      ]
     },
     "metadata": {
      "needs_background": "light"
     },
     "output_type": "display_data"
    }
   ],
   "source": [
    "sns.boxplot(mov_df['rating_count'])"
   ]
  },
  {
   "cell_type": "code",
   "execution_count": 27,
   "metadata": {},
   "outputs": [
    {
     "data": {
      "text/plain": [
       "0"
      ]
     },
     "execution_count": 27,
     "metadata": {},
     "output_type": "execute_result"
    }
   ],
   "source": [
    "gc.collect()"
   ]
  },
  {
   "cell_type": "code",
   "execution_count": 24,
   "metadata": {},
   "outputs": [
    {
     "data": {
      "text/plain": [
       "<seaborn.axisgrid.JointGrid at 0x7fac0866ef98>"
      ]
     },
     "execution_count": 24,
     "metadata": {},
     "output_type": "execute_result"
    },
    {
     "data": {
      "image/png": "[encoded data removed]",
      "text/plain": [
       "<Figure size 432x432 with 3 Axes>"
      ]
     },
     "metadata": {
      "needs_background": "light"
     },
     "output_type": "display_data"
    }
   ],
   "source": [
    "sns.jointplot(x='rating_avg', y='rating_count', data=mov_df)"
   ]
  },
  {
   "cell_type": "code",
   "execution_count": null,
   "metadata": {},
   "outputs": [],
   "source": []
  }
 ],
 "metadata": {
  "kernelspec": {
   "display_name": "venv",
   "language": "python",
   "name": "python3"
  },
  "language_info": {
   "codemirror_mode": {
    "name": "ipython",
    "version": 3
   },
   "file_extension": ".py",
   "mimetype": "text/x-python",
   "name": "python",
   "nbconvert_exporter": "python",
   "pygments_lexer": "ipython3",
   "version": "3.6.9"
  },
  "orig_nbformat": 4,
  "vscode": {
   "interpreter": {
    "hash": "a596c688a08921160fcccc099440d7f668c731975b96542a30f7f498f2c094c8"
   }
  }
 },
 "nbformat": 4,
 "nbformat_minor": 2
}
