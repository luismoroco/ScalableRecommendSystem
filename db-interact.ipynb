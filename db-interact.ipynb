{
 "cells": [
  {
   "cell_type": "code",
   "execution_count": 1,
   "metadata": {},
   "outputs": [
    {
     "name": "stderr",
     "output_type": "stream",
     "text": [
      "/home/lmoroco/Documentos/5to/TDS/projects/pruebas/ScalableRecommendSystem/venv/lib/python3.6/site-packages/cassandra/policies.py:25: CryptographyDeprecationWarning: Python 3.6 is no longer supported by the Python core team. Therefore, support for it is deprecated in cryptography. The next release of cryptography will remove support for Python 3.6.\n",
      "  from cryptography.hazmat.primitives import padding\n"
     ]
    }
   ],
   "source": [
    "from cassandra.cluster import Cluster\n",
    "from cassandra.query import SimpleStatement\n",
    "from cassandra.auth import PlainTextAuthProvider"
   ]
  },
  {
   "cell_type": "code",
   "execution_count": 2,
   "metadata": {},
   "outputs": [],
   "source": [
    "cluster = Cluster(\n",
    "    port=9042, \n",
    "    auth_provider=PlainTextAuthProvider(username='cassandra', password='root'))"
   ]
  },
  {
   "cell_type": "code",
   "execution_count": 3,
   "metadata": {},
   "outputs": [],
   "source": [
    "session = cluster.connect()"
   ]
  },
  {
   "cell_type": "code",
   "execution_count": 4,
   "metadata": {},
   "outputs": [],
   "source": [
    "session.set_keyspace(\"devtest\")"
   ]
  },
  {
   "cell_type": "code",
   "execution_count": 5,
   "metadata": {},
   "outputs": [
    {
     "name": "stdout",
     "output_type": "stream",
     "text": [
      "Row(id=5, name='IMAX')\n",
      "Row(id=10, name='Romance')\n",
      "Row(id=16, name='Film-Noir')\n",
      "Row(id=13, name='Musical')\n",
      "Row(id=11, name='Crime')\n",
      "Row(id=1, name='Documentary')\n",
      "Row(id=19, name='Thriller')\n",
      "Row(id=8, name='War')\n",
      "Row(id=2, name='Adventure')\n",
      "Row(id=4, name='Children')\n",
      "Row(id=18, name='(no genres listed)')\n",
      "Row(id=15, name='Horror')\n",
      "Row(id=20, name='Western')\n",
      "Row(id=7, name='Animation')\n",
      "Row(id=6, name='Mystery')\n",
      "Row(id=9, name='Drama')\n",
      "Row(id=14, name='Fantasy')\n",
      "Row(id=17, name='Comedy')\n",
      "Row(id=12, name='Action')\n",
      "Row(id=3, name='Sci-Fi')\n"
     ]
    }
   ],
   "source": [
    "rows = session.execute(\"SELECT * FROM genres\")\n",
    "for row in rows:\n",
    "    print(row)"
   ]
  },
  {
   "cell_type": "code",
   "execution_count": 6,
   "metadata": {},
   "outputs": [
    {
     "name": "stdout",
     "output_type": "stream",
     "text": [
      "Row(id=4317, count_rat=1074, genres_ids=SortedSet([10, 17]), rat_avg=-0.7462899684906006, title='Love Potion #9 (1992)', tmdbid='26255.0')\n",
      "Row(id=51678, count_rat=168, genres_ids=SortedSet([9]), rat_avg=0.018896210938692093, title='Julius Caesar (1953)', tmdbid='18019.0')\n",
      "Row(id=77328, count_rat=203, genres_ids=SortedSet([6, 9, 11, 19]), rat_avg=-0.0377899631857872, title='Red Riding: 1974 (2009)', tmdbid='61917.0')\n",
      "Row(id=143615, count_rat=1, genres_ids=SortedSet([9, 11, 12]), rat_avg=-0.02855078876018524, title='Pizza Connection (1985)', tmdbid='40982.0')\n",
      "Row(id=3372, count_rat=367, genres_ids=SortedSet([8, 12]), rat_avg=-0.10137535631656647, title='Bridge at Remagen, The (1969)', tmdbid='15873.0')\n",
      "Row(id=96748, count_rat=12, genres_ids=SortedSet([15, 19]), rat_avg=-0.8491047620773315, title='247°F (2011) ', tmdbid='137145.0')\n"
     ]
    }
   ],
   "source": [
    "rows = session.execute(\"SELECT * FROM movies LIMIT 6\")\n",
    "for row in rows:\n",
    "    print(row)"
   ]
  },
  {
   "cell_type": "code",
   "execution_count": 7,
   "metadata": {},
   "outputs": [
    {
     "name": "stdout",
     "output_type": "stream",
     "text": [
      "Row(id=4317, avg_rat=-0.35953056812286377, count_rat=17, mov_rateds=SortedSet([48, 104, 368, 594, 596, 1485, 1517, 2012, 2081, 2115, 2640, 2791, 2918, 3114, 4306, 4886, 8644]))\n",
      "Row(id=62693, avg_rat=0.440337210893631, count_rat=6, mov_rateds=SortedSet([527, 737, 909, 2346, 3086, 3911]))\n",
      "Row(id=121478, avg_rat=0.06522680819034576, count_rat=100, mov_rateds=SortedSet([11, 105, 110, 193, 337, 799, 830, 898, 900, 901, 902, 911, 914, 915, 916, 937, 1019, 1032, 1347, 1367, 1587, 1784, 1968, 2018, 2094, 2144, 2145, 2146, 2160, 2231, 2288, 2291, 2329, 2366, 2572, 2706, 2918, 3363, 3396, 3534, 3555, 3863, 3916, 4014, 4235, 4246, 4370, 4718, 4993, 5009, 5010, 5952, 5975, 6022, 6218, 6295, 6493, 6539, 6586, 6942, 6953, 7153, 7169, 7173, 7315, 7458, 8033, 8641, 8810, 8948, 8969, 26178, 26680, 30793, 31694, 33085, 37729, 39715, 40629, 44225, 44815, 45501, 45722, 50601, 51662, 53125, 54190, 55052, 55765, 56949, 58293, 58803, 62718, 64499, 64501, 65585, 69406, 69757, 71670, 71823]))\n",
      "Row(id=265902, avg_rat=0.7216700315475464, count_rat=15, mov_rateds=SortedSet([616, 1327, 1359, 1911, 2125, 3809, 3861, 4040, 4238, 4876, 7150, 63062, 88125, 89745, 91500]))\n",
      "Row(id=113295, avg_rat=-0.18997125327587128, count_rat=61, mov_rateds=SortedSet([10, 60, 165, 256, 318, 368, 377, 380, 480, 589, 637, 648, 780, 1013, 1036, 1101, 1126, 1299, 1370, 1385, 1562, 1587, 1608, 1954, 1962, 2000, 2001, 2046, 2109, 2273, 2371, 2403, 2420, 2706, 2792, 2916, 3039, 3243, 3527, 3639, 3698, 4085, 4321, 4489, 4679, 5049, 5313, 5574, 6537, 6664, 6764, 7004, 7225, 7376, 32019, 33410, 53125, 57528, 59369, 60126, 67295]))\n",
      "Row(id=263741, avg_rat=0.3416239619255066, count_rat=19, mov_rateds=SortedSet([393, 519, 858, 1356, 1385, 1920, 2011, 2153, 2380, 2382, 2383, 2404, 2648, 3959, 3972, 4006, 4023, 4638, 4993]))\n"
     ]
    }
   ],
   "source": [
    "rows = session.execute(\"SELECT * FROM users LIMIT 6\")\n",
    "for row in rows:\n",
    "    print(row)"
   ]
  },
  {
   "cell_type": "code",
   "execution_count": 104,
   "metadata": {},
   "outputs": [],
   "source": [
    "session.shutdown()"
   ]
  }
 ],
 "metadata": {
  "kernelspec": {
   "display_name": "venv",
   "language": "python",
   "name": "python3"
  },
  "language_info": {
   "codemirror_mode": {
    "name": "ipython",
    "version": 3
   },
   "file_extension": ".py",
   "mimetype": "text/x-python",
   "name": "python",
   "nbconvert_exporter": "python",
   "pygments_lexer": "ipython3",
   "version": "3.6.9"
  },
  "orig_nbformat": 4,
  "vscode": {
   "interpreter": {
    "hash": "a596c688a08921160fcccc099440d7f668c731975b96542a30f7f498f2c094c8"
   }
  }
 },
 "nbformat": 4,
 "nbformat_minor": 2
}
