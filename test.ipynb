{
 "cells": [
  {
   "cell_type": "code",
   "execution_count": 1,
   "metadata": {},
   "outputs": [],
   "source": [
    "import pandas as pd\n",
    "import gc"
   ]
  },
  {
   "cell_type": "code",
   "execution_count": 2,
   "metadata": {},
   "outputs": [],
   "source": [
    "from sklearn.preprocessing import StandardScaler\n",
    "\n",
    "scalerEnginer = StandardScaler()"
   ]
  },
  {
   "cell_type": "code",
   "execution_count": 3,
   "metadata": {},
   "outputs": [
    {
     "data": {
      "text/plain": [
       "0"
      ]
     },
     "execution_count": 3,
     "metadata": {},
     "output_type": "execute_result"
    }
   ],
   "source": [
    "movies_df = pd.read_csv('./data/ml-latest/movies.csv', usecols=['movieId', 'title', 'genres'])\n",
    "rating_df = pd.read_csv('./data/ml-latest/ratings.csv')\n",
    "\n",
    "rating_df['rating'] = scalerEnginer.fit_transform(rating_df[['rating']])\n",
    "\n",
    "gc.collect()"
   ]
  },
  {
   "cell_type": "code",
   "execution_count": 4,
   "metadata": {},
   "outputs": [
    {
     "name": "stdout",
     "output_type": "stream",
     "text": [
      "MOVIES WITHOUT RATINGS: (4209, 2)\n",
      "CLEANED MOVIES CSV: (58098, 3) -> (53889, 5)\n"
     ]
    },
    {
     "data": {
      "text/plain": [
       "0"
      ]
     },
     "execution_count": 4,
     "metadata": {},
     "output_type": "execute_result"
    }
   ],
   "source": [
    "# Eliminar duplicados en el DataFrame de películas\n",
    "movies_df.drop_duplicates(inplace=True)\n",
    "\n",
    "# Obtener las películas sin calificaciones\n",
    "movies_without_ratings = movies_df[~movies_df['movieId'].isin(rating_df['movieId'])]\n",
    "movies_without_ratings_rows = movies_without_ratings[['movieId', 'title']]\n",
    "print('MOVIES WITHOUT RATINGS:', movies_without_ratings_rows.shape)\n",
    "\n",
    "# Filtrar películas con calificaciones\n",
    "movies_cleaned = movies_df[~movies_df['movieId'].isin(movies_without_ratings_rows['movieId'])]\n",
    "\n",
    "# Calcular el promedio de las calificaciones por película\n",
    "rating_avg = rating_df.groupby('movieId')['rating'].mean().reset_index(name='rating_avg')\n",
    "\n",
    "# Contar el número de calificaciones por película\n",
    "rating_count = rating_df.groupby('movieId').size().reset_index(name='rating_count')\n",
    "\n",
    "# Unir los DataFrames de películas limpias con el promedio y el conteo de calificaciones\n",
    "movies_cleaned = pd.merge(movies_cleaned, rating_count, on='movieId', how='left')\n",
    "movies_cleaned = pd.merge(movies_cleaned, rating_avg, on='movieId', how='left')\n",
    "\n",
    "# Imprimir la información del DataFrame de películas limpias\n",
    "print('CLEANED MOVIES CSV:', movies_df.shape, '->', movies_cleaned.shape)\n",
    "\n",
    "gc.collect()"
   ]
  },
  {
   "cell_type": "code",
   "execution_count": 5,
   "metadata": {},
   "outputs": [
    {
     "data": {
      "text/html": [
       "<div>\n",
       "<style scoped>\n",
       "    .dataframe tbody tr th:only-of-type {\n",
       "        vertical-align: middle;\n",
       "    }\n",
       "\n",
       "    .dataframe tbody tr th {\n",
       "        vertical-align: top;\n",
       "    }\n",
       "\n",
       "    .dataframe thead th {\n",
       "        text-align: right;\n",
       "    }\n",
       "</style>\n",
       "<table border=\"1\" class=\"dataframe\">\n",
       "  <thead>\n",
       "    <tr style=\"text-align: right;\">\n",
       "      <th></th>\n",
       "      <th>movieId</th>\n",
       "      <th>tmdbId</th>\n",
       "    </tr>\n",
       "  </thead>\n",
       "  <tbody>\n",
       "    <tr>\n",
       "      <th>0</th>\n",
       "      <td>1</td>\n",
       "      <td>862</td>\n",
       "    </tr>\n",
       "    <tr>\n",
       "      <th>1</th>\n",
       "      <td>2</td>\n",
       "      <td>8844</td>\n",
       "    </tr>\n",
       "    <tr>\n",
       "      <th>2</th>\n",
       "      <td>3</td>\n",
       "      <td>15602</td>\n",
       "    </tr>\n",
       "  </tbody>\n",
       "</table>\n",
       "</div>"
      ],
      "text/plain": [
       "   movieId tmdbId\n",
       "0        1    862\n",
       "1        2   8844\n",
       "2        3  15602"
      ]
     },
     "execution_count": 5,
     "metadata": {},
     "output_type": "execute_result"
    }
   ],
   "source": [
    "links_df = pd.read_csv('./data/ml-latest/links.csv', usecols=['movieId', 'tmdbId'], dtype={'tmdbId': str})\n",
    "links_df.head(3)"
   ]
  },
  {
   "cell_type": "code",
   "execution_count": 6,
   "metadata": {},
   "outputs": [],
   "source": [
    "movies_cleaned = pd.merge(movies_cleaned, links_df, on='movieId')"
   ]
  },
  {
   "cell_type": "code",
   "execution_count": 7,
   "metadata": {},
   "outputs": [
    {
     "data": {
      "text/html": [
       "<div>\n",
       "<style scoped>\n",
       "    .dataframe tbody tr th:only-of-type {\n",
       "        vertical-align: middle;\n",
       "    }\n",
       "\n",
       "    .dataframe tbody tr th {\n",
       "        vertical-align: top;\n",
       "    }\n",
       "\n",
       "    .dataframe thead th {\n",
       "        text-align: right;\n",
       "    }\n",
       "</style>\n",
       "<table border=\"1\" class=\"dataframe\">\n",
       "  <thead>\n",
       "    <tr style=\"text-align: right;\">\n",
       "      <th></th>\n",
       "      <th>movieId</th>\n",
       "      <th>title</th>\n",
       "      <th>genres</th>\n",
       "      <th>rating_count</th>\n",
       "      <th>rating_avg</th>\n",
       "      <th>tmdbId</th>\n",
       "    </tr>\n",
       "  </thead>\n",
       "  <tbody>\n",
       "    <tr>\n",
       "      <th>0</th>\n",
       "      <td>1</td>\n",
       "      <td>Toy Story (1995)</td>\n",
       "      <td>Adventure|Animation|Children|Comedy|Fantasy</td>\n",
       "      <td>68469</td>\n",
       "      <td>0.334040</td>\n",
       "      <td>862</td>\n",
       "    </tr>\n",
       "    <tr>\n",
       "      <th>1</th>\n",
       "      <td>2</td>\n",
       "      <td>Jumanji (1995)</td>\n",
       "      <td>Adventure|Children|Fantasy</td>\n",
       "      <td>27143</td>\n",
       "      <td>-0.266199</td>\n",
       "      <td>8844</td>\n",
       "    </tr>\n",
       "    <tr>\n",
       "      <th>2</th>\n",
       "      <td>3</td>\n",
       "      <td>Grumpier Old Men (1995)</td>\n",
       "      <td>Comedy|Romance</td>\n",
       "      <td>15585</td>\n",
       "      <td>-0.334283</td>\n",
       "      <td>15602</td>\n",
       "    </tr>\n",
       "    <tr>\n",
       "      <th>3</th>\n",
       "      <td>4</td>\n",
       "      <td>Waiting to Exhale (1995)</td>\n",
       "      <td>Comedy|Drama|Romance</td>\n",
       "      <td>2989</td>\n",
       "      <td>-0.615092</td>\n",
       "      <td>31357</td>\n",
       "    </tr>\n",
       "    <tr>\n",
       "      <th>4</th>\n",
       "      <td>5</td>\n",
       "      <td>Father of the Bride Part II (1995)</td>\n",
       "      <td>Comedy</td>\n",
       "      <td>15474</td>\n",
       "      <td>-0.424957</td>\n",
       "      <td>11862</td>\n",
       "    </tr>\n",
       "  </tbody>\n",
       "</table>\n",
       "</div>"
      ],
      "text/plain": [
       "   movieId                               title  \\\n",
       "0        1                    Toy Story (1995)   \n",
       "1        2                      Jumanji (1995)   \n",
       "2        3             Grumpier Old Men (1995)   \n",
       "3        4            Waiting to Exhale (1995)   \n",
       "4        5  Father of the Bride Part II (1995)   \n",
       "\n",
       "                                        genres  rating_count  rating_avg  \\\n",
       "0  Adventure|Animation|Children|Comedy|Fantasy         68469    0.334040   \n",
       "1                   Adventure|Children|Fantasy         27143   -0.266199   \n",
       "2                               Comedy|Romance         15585   -0.334283   \n",
       "3                         Comedy|Drama|Romance          2989   -0.615092   \n",
       "4                                       Comedy         15474   -0.424957   \n",
       "\n",
       "  tmdbId  \n",
       "0    862  \n",
       "1   8844  \n",
       "2  15602  \n",
       "3  31357  \n",
       "4  11862  "
      ]
     },
     "execution_count": 7,
     "metadata": {},
     "output_type": "execute_result"
    }
   ],
   "source": [
    "movies_cleaned.head()"
   ]
  },
  {
   "cell_type": "code",
   "execution_count": null,
   "metadata": {},
   "outputs": [],
   "source": []
  }
 ],
 "metadata": {
  "kernelspec": {
   "display_name": "venv",
   "language": "python",
   "name": "python3"
  },
  "language_info": {
   "codemirror_mode": {
    "name": "ipython",
    "version": 3
   },
   "file_extension": ".py",
   "mimetype": "text/x-python",
   "name": "python",
   "nbconvert_exporter": "python",
   "pygments_lexer": "ipython3",
   "version": "3.6.9"
  },
  "orig_nbformat": 4
 },
 "nbformat": 4,
 "nbformat_minor": 2
}
